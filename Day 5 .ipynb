{
 "cells": [
  {
   "cell_type": "markdown",
   "metadata": {},
   "source": [
    "# Question 1 :\n",
    "Write a Python program to find the first 20 non-even prime natural numbers.\n"
   ]
  },
  {
   "cell_type": "code",
   "execution_count": 21,
   "metadata": {},
   "outputs": [
    {
     "name": "stdout",
     "output_type": "stream",
     "text": [
      "3\n",
      "5\n",
      "7\n",
      "11\n",
      "13\n",
      "17\n",
      "19\n"
     ]
    }
   ],
   "source": [
    "start=3\n",
    "end=20\n",
    "for no in range(start,end):\n",
    "    if no>1:  #TO iteraate the no from start to end and for every no greater than 1,checking if it's divisible by even no\n",
    "        for n in range(2,no//2+2):\n",
    "            if (no%n)==0:\n",
    "                break\n",
    "            else:\n",
    "                if n== no//2+1:\n",
    "                    print(no)\n",
    "        "
   ]
  },
  {
   "cell_type": "markdown",
   "metadata": {},
   "source": [
    "# Question 2 :\n",
    "Write a Python program to implement 15 functions of string"
   ]
  },
  {
   "cell_type": "code",
   "execution_count": 66,
   "metadata": {},
   "outputs": [
    {
     "name": "stdout",
     "output_type": "stream",
     "text": [
      "Immanuelkp-1998-2020\n",
      "immanuelkp-1998-2020\n",
      "-----immanuelkp-1998-2020-----\n",
      "False\n",
      "False\n",
      "False\n",
      "True\n",
      "False\n",
      "immanuelkp-1998-2020\n",
      "IMMANUELKP-1998-2020\n",
      "Immanuelkp-1998-2020\n",
      "immanuelkp-1998-2020\n",
      "Emmanuelkp-1998-2020\n",
      "1\n",
      "immanuelkp-1998-LetsUpgrade AI & ML\n"
     ]
    }
   ],
   "source": [
    "a=\"immanuelkp-1998-2020\"\n",
    "print (a.capitalize())\n",
    "print (a.casefold())\n",
    "print(a.center(30,\"-\"))\n",
    "print(a.isalnum())\n",
    "print(a.isalpha())\n",
    "print(a.isnumeric())\n",
    "print(a.islower())\n",
    "print(a.isupper())\n",
    "print(a.lower())\n",
    "print(a.upper())\n",
    "print(a.title())\n",
    "print(a.casefold())\n",
    "print(a.replace(\"i\",\"E\"))\n",
    "print(a.count(\"a\"))\n",
    "print(a.replace(\"2020\", \"LetsUpgrade AI & ML\"))"
   ]
  },
  {
   "cell_type": "markdown",
   "metadata": {},
   "source": [
    "# Question 3:\n",
    "Write a Python program to check if the given string is a Palindrome or Anagram or None of them.\n",
    "Display the message accordingly to the user."
   ]
  },
  {
   "cell_type": "code",
   "execution_count": 81,
   "metadata": {},
   "outputs": [
    {
     "name": "stdout",
     "output_type": "stream",
     "text": [
      "enter a string:hello\n",
      "enter another string: world\n",
      "Neither of the entered string is Palindrome or an Anagram\n"
     ]
    }
   ],
   "source": [
    "a=input(\"enter a string:\")\n",
    "\n",
    "if a == a[::-1]:\n",
    "    print(a,\"the entered string is a palindrome\")\n",
    "else:\n",
    "    c=input(\"enter another string: \")\n",
    "    c=c.lower()\n",
    "    a=sorted(a)\n",
    "    c=sorted(c)\n",
    "    if a==c:\n",
    "        print(\"Both the entered strings are Anagram\")\n",
    "    else:\n",
    "        print(\"Neither of the entered string is Palindrome or an Anagram\")"
   ]
  },
  {
   "cell_type": "markdown",
   "metadata": {},
   "source": [
    "# Question 4:\n",
    "Write a Python's user defined function that removes all the additional characters from the string\n",
    "and converts it finally to lower case using built-in lower(). eg: If the string is \"Dr. Darshan Ingle\n",
    "@AI-ML Trainer\", then the output be \"drdarshaningleaimltrainer\"."
   ]
  },
  {
   "cell_type": "code",
   "execution_count": 88,
   "metadata": {},
   "outputs": [
    {
     "name": "stdout",
     "output_type": "stream",
     "text": [
      "Enter the string:  Dr. Darshan Ingle @AI-ML Trainer\n",
      "drdarshaningleaimltrainer\n"
     ]
    }
   ],
   "source": [
    "a=input(\"Enter the string:  \")\n",
    "\n",
    "b=''.join(e for e in a if e.isalnum())\n",
    "\n",
    "\n",
    "print(b.lower())"
   ]
  }
 ],
 "metadata": {
  "kernelspec": {
   "display_name": "Python 3",
   "language": "python",
   "name": "python3"
  },
  "language_info": {
   "codemirror_mode": {
    "name": "ipython",
    "version": 3
   },
   "file_extension": ".py",
   "mimetype": "text/x-python",
   "name": "python",
   "nbconvert_exporter": "python",
   "pygments_lexer": "ipython3",
   "version": "3.7.4"
  }
 },
 "nbformat": 4,
 "nbformat_minor": 2
}
