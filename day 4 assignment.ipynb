{
 "cells": [
  {
   "cell_type": "markdown",
   "metadata": {},
   "source": [
    "# Day 4 ASSINGMENT"
   ]
  },
  {
   "cell_type": "markdown",
   "metadata": {},
   "source": [
    "# Question 1 :\n",
    "Research on whether addition, subtraction, multiplication, division, floor division and modulo\n",
    "operations be performed on complex numbers. Based on your study, implement a Python\n",
    "program to demonstrate these operations."
   ]
  },
  {
   "cell_type": "markdown",
   "metadata": {},
   "source": [
    "# The floor divison and modulo functions is not applicable for complex numbers, the rest of the operations are as follows"
   ]
  },
  {
   "cell_type": "code",
   "execution_count": 3,
   "metadata": {},
   "outputs": [
    {
     "name": "stdout",
     "output_type": "stream",
     "text": [
      "Addition of c1 and c2 is (8+2j)\n",
      "substraction of c1 and c2 is (2+0j)\n",
      "Multiplication of c1 and c2 is (14+8j)\n",
      "divison of c1 and c2 is (1.5999999999999999-0.19999999999999996j)\n"
     ]
    }
   ],
   "source": [
    "c1= 5+1j\n",
    "c2= 3+1j\n",
    "\n",
    "print(\"Addition of c1 and c2 is\", c1+c2)\n",
    "print(\"substraction of c1 and c2 is\", c1-c2)\n",
    "print(\"Multiplication of c1 and c2 is\", c1*c2)\n",
    "print(\"divison of c1 and c2 is\", c1/c2)"
   ]
  },
  {
   "cell_type": "markdown",
   "metadata": {},
   "source": [
    "# Question 2 :\n",
    "Research on range() functions and its parameters. Create a markdown cell and write in your own\n",
    "words (no copy-paste from google please) what you understand about it. Implement a small\n",
    "program of your choice on the same.\n"
   ]
  },
  {
   "cell_type": "markdown",
   "metadata": {},
   "source": [
    "The range function has three type of operations\n",
    "1. range(number) ---> this provides the range of one particular number 0 to number -1.\n",
    "2. range(start no, stop no)---> with this syntax we get the range from a particular starting number till stop no -1, EG range (2,20) will you numbers from 2 till 19.\n",
    "3. range (start, stop, step size)---> This syntax will help ud fetch a range of valaues with step size as mentioned."
   ]
  },
  {
   "cell_type": "code",
   "execution_count": 18,
   "metadata": {},
   "outputs": [
    {
     "name": "stdout",
     "output_type": "stream",
     "text": [
      "First syntax example\n",
      "0 1 2 3 4 \n",
      " second syntax example\n",
      "2 3 4 5 6 7 8 9 10 11 12 13 14 15 16 17 18 19 \n",
      " third syntax example\n",
      "2 4 6 8 10 12 14 16 18 "
     ]
    }
   ],
   "source": [
    "print (\"First syntax example\")\n",
    "for i in range(5):\n",
    "    print(i,end=\" \")\n",
    "    \n",
    "print (\"\\n second syntax example\")\n",
    "for i in range(2,20):\n",
    "    print(i,end=\" \")\n",
    "    \n",
    "print (\"\\n third syntax example\")\n",
    "for i in range(2,20,2):\n",
    "    print(i,end=\" \")    "
   ]
  },
  {
   "cell_type": "markdown",
   "metadata": {},
   "source": [
    "# Question 3:\n",
    " Consider two numbers. Perform their subtraction and if the result of subtraction is greater than\n",
    "25, print their multiplication result else print their division result."
   ]
  },
  {
   "cell_type": "code",
   "execution_count": 35,
   "metadata": {},
   "outputs": [
    {
     "name": "stdout",
     "output_type": "stream",
     "text": [
      "enter the first number: 40\n",
      "enter the second number: 10\n",
      "the value after substraction is:  30\n",
      "the multiplication value is : 400\n"
     ]
    }
   ],
   "source": [
    "import math\n",
    "n1=int(input(\"enter the first number: \"))\n",
    "n2=int(input(\"enter the second number: \"))\n",
    "n3= n1 - n2\n",
    "n4=n1*n2\n",
    "n5=n1/n2\n",
    "print(\"the value after substraction is: \", n3)\n",
    "if (n3>25):\n",
    "    print(\"the multiplication value is :\",n4)\n",
    "else:\n",
    "    print(\"the divided value is : \",n5)\n"
   ]
  },
  {
   "cell_type": "markdown",
   "metadata": {},
   "source": [
    "# Question 4:\n",
    "Consider a list of 10 elements of integer values. If the number in the list is divisible by 2, print the\n",
    "result as \"square of that number minus 2\"."
   ]
  },
  {
   "cell_type": "code",
   "execution_count": 38,
   "metadata": {},
   "outputs": [
    {
     "name": "stdout",
     "output_type": "stream",
     "text": [
      "2\n",
      "4\n",
      "6\n",
      "8\n",
      "10\n",
      "12\n",
      "5\n",
      "7\n",
      "9\n",
      "3\n",
      "square of number 2 minus 2 =  2\n",
      "square of number 4 minus 2 =  14\n",
      "square of number 6 minus 2 =  34\n",
      "square of number 8 minus 2 =  62\n",
      "square of number 10 minus 2 =  98\n",
      "square of number 12 minus 2 =  142\n"
     ]
    }
   ],
   "source": [
    "# create an empty list \n",
    "l = [] \n",
    "#this l should have 10 elements in it so n=10\n",
    "n=10\n",
    "# getting input till 10 numbers\n",
    "for i in range(0, n): \n",
    "    no = int(input()) \n",
    "  \n",
    "    l.append(no) \n",
    "    # adding it\n",
    "      \n",
    "for n in l:\n",
    "    if (n%2==0):\n",
    "        print(\"square of number {} minus 2 = \".format(n),(n**2 - 2))"
   ]
  },
  {
   "cell_type": "markdown",
   "metadata": {},
   "source": [
    "# Question 5:\n",
    "Consider a list of 10 elements. Print all the elements in the list which are greater than 7 when that\n",
    "number is divided 2."
   ]
  },
  {
   "cell_type": "code",
   "execution_count": 40,
   "metadata": {},
   "outputs": [
    {
     "name": "stdout",
     "output_type": "stream",
     "text": [
      "40\n",
      "50\n",
      "12\n",
      "22\n"
     ]
    }
   ],
   "source": [
    "def check(a):\n",
    "    for i in a:\n",
    "        if i >7 and i%2 == 0:\n",
    "            print(i)\n",
    "l=[40,50,2,4,12,15,19,22,45,31]\n",
    "check(l)"
   ]
  }
 ],
 "metadata": {
  "kernelspec": {
   "display_name": "Python 3",
   "language": "python",
   "name": "python3"
  },
  "language_info": {
   "codemirror_mode": {
    "name": "ipython",
    "version": 3
   },
   "file_extension": ".py",
   "mimetype": "text/x-python",
   "name": "python",
   "nbconvert_exporter": "python",
   "pygments_lexer": "ipython3",
   "version": "3.7.4"
  }
 },
 "nbformat": 4,
 "nbformat_minor": 2
}
