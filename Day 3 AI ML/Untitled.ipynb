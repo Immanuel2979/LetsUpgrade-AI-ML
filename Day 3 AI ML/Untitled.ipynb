{
 "cells": [
  {
   "cell_type": "markdown",
   "metadata": {},
   "source": [
    "# Day 3 assingnment "
   ]
  },
  {
   "cell_type": "markdown",
   "metadata": {},
   "source": [
    "# Question 1:\n",
    "WAP to substracte two complex no in py"
   ]
  },
  {
   "cell_type": "code",
   "execution_count": 24,
   "metadata": {},
   "outputs": [
    {
     "name": "stdout",
     "output_type": "stream",
     "text": [
      "The substracted value of two complex numbers (6+3j)\n"
     ]
    }
   ],
   "source": [
    "N1=9+5j\n",
    "N2=3+2j\n",
    "sum=N1-N2\n",
    "print(\"The substracted value of two complex numbers\",sum)"
   ]
  },
  {
   "cell_type": "markdown",
   "metadata": {},
   "source": [
    "# Question 2:\n",
    "WAP to find the 4th root of a number"
   ]
  },
  {
   "cell_type": "code",
   "execution_count": 25,
   "metadata": {},
   "outputs": [
    {
     "name": "stdout",
     "output_type": "stream",
     "text": [
      "the fourth root is 256\n"
     ]
    }
   ],
   "source": [
    "num=4\n",
    "op= num**4\n",
    "print(\"the fourth root is\", op)"
   ]
  },
  {
   "cell_type": "markdown",
   "metadata": {},
   "source": [
    "# Question 3:\n",
    "Write a program to swap two numbers in Python with the help of a temporary variable.\n"
   ]
  },
  {
   "cell_type": "code",
   "execution_count": 32,
   "metadata": {},
   "outputs": [
    {
     "name": "stdout",
     "output_type": "stream",
     "text": [
      "The values before swapping n1:  20  And n2 is : 30\n",
      "The values after swapping n1:  30  And n2 is : 20\n"
     ]
    }
   ],
   "source": [
    "n1= 20\n",
    "n2= 30\n",
    "print(\"The values before swapping n1: \", n1, \" And n2 is :\", n2)\n",
    "temp=n1\n",
    "n1=n2\n",
    "n2=temp\n",
    "print(\"The values after swapping n1: \", n1, \" And n2 is :\", n2)\n"
   ]
  },
  {
   "cell_type": "markdown",
   "metadata": {},
   "source": [
    "# Question 4:\n",
    "Write a program to swap two numbers in Python without using a temporary variable."
   ]
  },
  {
   "cell_type": "code",
   "execution_count": 35,
   "metadata": {},
   "outputs": [
    {
     "name": "stdout",
     "output_type": "stream",
     "text": [
      "The values before swapping n1:  20  And n2 is : 30\n",
      "The values after swapping n1:  30  And n2 is : 20\n"
     ]
    }
   ],
   "source": [
    "n1= 20\n",
    "n2= 30\n",
    "print(\"The values before swapping n1: \", n1, \" And n2 is :\", n2)\n",
    "n1=n1+n2\n",
    "n2=n1-n2\n",
    "n1=n1-n2\n",
    "print(\"The values after swapping n1: \", n1, \" And n2 is :\", n2)\n"
   ]
  },
  {
   "cell_type": "markdown",
   "metadata": {},
   "source": [
    "# Question 5:\n",
    "Write a program to convert fahrenheit to kelvin and celsius both."
   ]
  },
  {
   "cell_type": "code",
   "execution_count": 38,
   "metadata": {},
   "outputs": [
    {
     "name": "stdout",
     "output_type": "stream",
     "text": [
      "Fahrenheit  52.0  : =  11.11111111111111  in celsius\n",
      "Fahrenheit  52.0  : =  284.26111111111106  in kelvin\n"
     ]
    }
   ],
   "source": [
    "fahrenheit=52.0\n",
    "\n",
    "celsius=(fahrenheit-32) * 5/9\n",
    "\n",
    "kelvin=celsius+273.15\n",
    "\n",
    "print(\"Fahrenheit \",fahrenheit,\" : = \",celsius ,\" in celsius\")\n",
    "\n",
    "print(\"Fahrenheit \",fahrenheit,\" : = \",kelvin ,\" in kelvin\")"
   ]
  },
  {
   "cell_type": "markdown",
   "metadata": {},
   "source": [
    "# Question 6:\n",
    "Write a program to demonstrate all the available data types in Python. Hint: Use type() function.\n"
   ]
  },
  {
   "cell_type": "code",
   "execution_count": 42,
   "metadata": {},
   "outputs": [
    {
     "name": "stdout",
     "output_type": "stream",
     "text": [
      "<class 'int'> <class 'str'> <class 'tuple'> <class 'list'> <class 'dict'> <class 'range'> <class 'float'>\n"
     ]
    }
   ],
   "source": [
    "a=100 # int\n",
    "b=\"hello there\" #string\n",
    "c=(1,100,20,\"immanuel\") #tuple\n",
    "d=[1,100,20,\"immanuel\"] #list\n",
    "e={\"age\":27, \"blood group\":\"o positive\", \"edu\":\"Engineer\"} #dict\n",
    "f=range(20,30) #range\n",
    "g=2.3123  #float\n",
    "print(type(a),type(b),type(c),type(d),type(e),type(f),type(g))\n"
   ]
  },
  {
   "cell_type": "markdown",
   "metadata": {},
   "source": [
    "# Question 7:\n",
    "Create a Markdown cell in jupyter and list the steps discussed in the session by Dr. Darshan\n",
    "Ingle sir to create Github profile and upload Githubs Assignment link."
   ]
  },
  {
   "cell_type": "markdown",
   "metadata": {},
   "source": [
    "1. Create a Github public repository and name it LetsUpgrade AI/ML\n",
    "2. Upload the files/solution in the repo in day wise manner.\n",
    "3. Copy the URL of the Folder of that day and paste in the Assignment Submission Form (Google Form)\n",
    "4. Make sure you are filling correct details in the Assignment Submission Form."
   ]
  },
  {
   "cell_type": "code",
   "execution_count": null,
   "metadata": {},
   "outputs": [],
   "source": []
  }
 ],
 "metadata": {
  "kernelspec": {
   "display_name": "Python 3",
   "language": "python",
   "name": "python3"
  },
  "language_info": {
   "codemirror_mode": {
    "name": "ipython",
    "version": 3
   },
   "file_extension": ".py",
   "mimetype": "text/x-python",
   "name": "python",
   "nbconvert_exporter": "python",
   "pygments_lexer": "ipython3",
   "version": "3.7.4"
  }
 },
 "nbformat": 4,
 "nbformat_minor": 2
}
